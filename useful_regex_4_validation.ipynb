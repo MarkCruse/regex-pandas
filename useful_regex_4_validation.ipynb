{
 "cells": [
  {
   "cell_type": "markdown",
   "metadata": {},
   "source": [
    "## Useful Regex Examples to Validate Data in Pandas"
   ]
  },
  {
   "cell_type": "markdown",
   "metadata": {},
   "source": [
    "## Sections"
   ]
  },
  {
   "cell_type": "markdown",
   "metadata": {},
   "source": [
    "- [Identify files via file extensions](#Identify-files-via-file-extensions)\n",
    "- [Username validation](#Username-validation)\n",
    "- [Checking for valid email addresses](#Checking-for-valid-email-addresses)\n",
    "- [Check for a valid URL](#Check-for-a-valid-URL)\n",
    "- [Validating numbers](#Validating-numbers)\n",
    "- [Validating dates](#Validating-dates)\n",
    "- [Check Valid Time Format](#Check-Valid-Time-Format)\n",
    "- [Validating HTML tags](#Validating-HTML-tags)\n",
    "- [Validating MAC addresses](#Validating-MAC-addresses)\n",
    "- [Other resources](https://github.com/MarkCruse/regex-pandas/blob/master/regex_sources.md)  "
   ]
  },
  {
   "cell_type": "markdown",
   "metadata": {},
   "source": [
    "<br>\n",
    "<br>"
   ]
  },
  {
   "cell_type": "markdown",
   "metadata": {},
   "source": [
    "### Import Needed Libraries"
   ]
  },
  {
   "cell_type": "code",
   "execution_count": 1,
   "metadata": {},
   "outputs": [],
   "source": [
    "import pandas as pd\n",
    "from pathlib import Path\n",
    "\n",
    "import warnings\n",
    "warnings.filterwarnings(\"ignore\")"
   ]
  },
  {
   "cell_type": "markdown",
   "metadata": {},
   "source": [
    "### Read mock data into dataframe"
   ]
  },
  {
   "cell_type": "code",
   "execution_count": 2,
   "metadata": {},
   "outputs": [
    {
     "name": "stdout",
     "output_type": "stream",
     "text": [
      "<class 'pandas.core.frame.DataFrame'>\n",
      "RangeIndex: 1000 entries, 0 to 999\n",
      "Data columns (total 10 columns):\n",
      " #   Column     Non-Null Count  Dtype \n",
      "---  ------     --------------  ----- \n",
      " 0   id         1000 non-null   string\n",
      " 1   email      1000 non-null   object\n",
      " 2   date       1000 non-null   object\n",
      " 3   mac        1000 non-null   object\n",
      " 4   file_name  1000 non-null   object\n",
      " 5   url        1000 non-null   object\n",
      " 6   time12     1000 non-null   object\n",
      " 7   time24     1000 non-null   object\n",
      " 8   numbers    1000 non-null   object\n",
      " 9   html       1000 non-null   object\n",
      "dtypes: object(9), string(1)\n",
      "memory usage: 78.2+ KB\n"
     ]
    }
   ],
   "source": [
    "filePath = Path(\"data\")\n",
    "file_in = filePath.joinpath('mucked_mock_data.csv')\n",
    "df = pd.read_csv(file_in,usecols=['id','file_name','email','url','numbers','date','time12','time24','html','mac'],dtype={'id':'string'})\n",
    "df.info()"
   ]
  },
  {
   "cell_type": "markdown",
   "metadata": {},
   "source": [
    "## Identify files via file extensions"
   ]
  },
  {
   "cell_type": "markdown",
   "metadata": {},
   "source": [
    "[[back to top](#Sections)]"
   ]
  },
  {
   "cell_type": "markdown",
   "metadata": {},
   "source": [
    "A regular expression to check for file extensions.  \n",
    "\n",
    "Note: This approach is not recommended for thorough limitation of file types (parse the file header instead). However, this regex is still a useful alternative to e.g., a Python's `endswith` approach for quick pre-filtering for certain files of interest."
   ]
  },
  {
   "cell_type": "code",
   "execution_count": 3,
   "metadata": {
    "collapsed": false,
    "jupyter": {
     "outputs_hidden": false
    }
   },
   "outputs": [
    {
     "data": {
      "text/plain": [
       "False    726\n",
       "True     274\n",
       "Name: file_name, dtype: int64"
      ]
     },
     "execution_count": 3,
     "metadata": {},
     "output_type": "execute_result"
    }
   ],
   "source": [
    "pattern = r'(?i)(\\w+)\\.(jpeg|jpg|png|gif|tif|svg|ppt)$'\n",
    "\n",
    "# remove `(?i)` to make regexpr case-sensitive\n",
    "\n",
    "df['file_name'].astype(str).str.contains(pattern,regex=True).value_counts()\n"
   ]
  },
  {
   "cell_type": "markdown",
   "metadata": {},
   "source": [
    "## Username validation"
   ]
  },
  {
   "cell_type": "markdown",
   "metadata": {},
   "source": [
    "[[back to top](#Sections)]"
   ]
  },
  {
   "cell_type": "markdown",
   "metadata": {},
   "source": [
    "Checking for a valid user name that has a certain minimum and maximum length.\n",
    "\n",
    "Allowed characters:\n",
    "- letters (upper- and lower-case)\n",
    "- numbers\n",
    "- dashes\n",
    "- underscores"
   ]
  },
  {
   "cell_type": "code",
   "execution_count": 4,
   "metadata": {
    "collapsed": false,
    "jupyter": {
     "outputs_hidden": false
    }
   },
   "outputs": [
    {
     "name": "stdout",
     "output_type": "stream",
     "text": [
      "True     811\n",
      "False    189\n",
      "Name: id, dtype: int64\n",
      "\n",
      "Invalid IDs:\n"
     ]
    },
    {
     "data": {
      "text/html": [
       "<div>\n",
       "<style scoped>\n",
       "    .dataframe tbody tr th:only-of-type {\n",
       "        vertical-align: middle;\n",
       "    }\n",
       "\n",
       "    .dataframe tbody tr th {\n",
       "        vertical-align: top;\n",
       "    }\n",
       "\n",
       "    .dataframe thead th {\n",
       "        text-align: right;\n",
       "    }\n",
       "</style>\n",
       "<table border=\"1\" class=\"dataframe\">\n",
       "  <thead>\n",
       "    <tr style=\"text-align: right;\">\n",
       "      <th></th>\n",
       "      <th>id</th>\n",
       "    </tr>\n",
       "  </thead>\n",
       "  <tbody>\n",
       "    <tr>\n",
       "      <th>1</th>\n",
       "      <td>JMU2^^</td>\n",
       "    </tr>\n",
       "    <tr>\n",
       "      <th>5</th>\n",
       "      <td>BJE27^</td>\n",
       "    </tr>\n",
       "    <tr>\n",
       "      <th>9</th>\n",
       "      <td>KBE2^6</td>\n",
       "    </tr>\n",
       "    <tr>\n",
       "      <th>19</th>\n",
       "      <td>PLE22^</td>\n",
       "    </tr>\n",
       "    <tr>\n",
       "      <th>23</th>\n",
       "      <td>RJE20^</td>\n",
       "    </tr>\n",
       "    <tr>\n",
       "      <th>...</th>\n",
       "      <td>...</td>\n",
       "    </tr>\n",
       "    <tr>\n",
       "      <th>981</th>\n",
       "      <td>ERO2^5</td>\n",
       "    </tr>\n",
       "    <tr>\n",
       "      <th>988</th>\n",
       "      <td>PBA27^</td>\n",
       "    </tr>\n",
       "    <tr>\n",
       "      <th>995</th>\n",
       "      <td>MRO21^</td>\n",
       "    </tr>\n",
       "    <tr>\n",
       "      <th>996</th>\n",
       "      <td>MDU2^1</td>\n",
       "    </tr>\n",
       "    <tr>\n",
       "      <th>998</th>\n",
       "      <td>KSK2^6</td>\n",
       "    </tr>\n",
       "  </tbody>\n",
       "</table>\n",
       "<p>189 rows × 1 columns</p>\n",
       "</div>"
      ],
      "text/plain": [
       "         id\n",
       "1    JMU2^^\n",
       "5    BJE27^\n",
       "9    KBE2^6\n",
       "19   PLE22^\n",
       "23   RJE20^\n",
       "..      ...\n",
       "981  ERO2^5\n",
       "988  PBA27^\n",
       "995  MRO21^\n",
       "996  MDU2^1\n",
       "998  KSK2^6\n",
       "\n",
       "[189 rows x 1 columns]"
      ]
     },
     "execution_count": 4,
     "metadata": {},
     "output_type": "execute_result"
    }
   ],
   "source": [
    "min_len = 4 # minimum length for a valid username\n",
    "max_len = 6 # maximum length for a valid username\n",
    "\n",
    "pattern = r\"^[A-Z0-9_-]{%s,%s}$\" %(min_len, max_len)\n",
    "\n",
    "# add `(?i)` and change `A-Z` to `a-z` to allow lower-case letters\n",
    "\n",
    "print (df['id'].astype(str).str.contains(pattern,regex=True).value_counts())\n",
    "print ('\\nInvalid IDs:')\n",
    "df[['id']][~df['id'].astype(str).str.contains(pattern,regex=True)]"
   ]
  },
  {
   "cell_type": "markdown",
   "metadata": {},
   "source": [
    "<br>\n",
    "<br>"
   ]
  },
  {
   "cell_type": "markdown",
   "metadata": {},
   "source": [
    "## Checking for valid email addresses"
   ]
  },
  {
   "cell_type": "markdown",
   "metadata": {},
   "source": [
    "[[back to top](#Sections)]"
   ]
  },
  {
   "cell_type": "markdown",
   "metadata": {},
   "source": [
    "A regular expression that captures most email addresses."
   ]
  },
  {
   "cell_type": "code",
   "execution_count": 5,
   "metadata": {
    "collapsed": false,
    "jupyter": {
     "outputs_hidden": false
    }
   },
   "outputs": [
    {
     "name": "stdout",
     "output_type": "stream",
     "text": [
      "True     904\n",
      "False     96\n",
      "Name: email, dtype: int64\n",
      "\n",
      "Invalid email addresses:\n"
     ]
    },
    {
     "data": {
      "text/html": [
       "<div>\n",
       "<style scoped>\n",
       "    .dataframe tbody tr th:only-of-type {\n",
       "        vertical-align: middle;\n",
       "    }\n",
       "\n",
       "    .dataframe tbody tr th {\n",
       "        vertical-align: top;\n",
       "    }\n",
       "\n",
       "    .dataframe thead th {\n",
       "        text-align: right;\n",
       "    }\n",
       "</style>\n",
       "<table border=\"1\" class=\"dataframe\">\n",
       "  <thead>\n",
       "    <tr style=\"text-align: right;\">\n",
       "      <th></th>\n",
       "      <th>id</th>\n",
       "      <th>email</th>\n",
       "    </tr>\n",
       "  </thead>\n",
       "  <tbody>\n",
       "    <tr>\n",
       "      <th>2</th>\n",
       "      <td>SSH279</td>\n",
       "      <td>ssherbrooke2@list-manage_com</td>\n",
       "    </tr>\n",
       "    <tr>\n",
       "      <th>4</th>\n",
       "      <td>ZFA290</td>\n",
       "      <td>zfabri4@biblegateway_com</td>\n",
       "    </tr>\n",
       "    <tr>\n",
       "      <th>10</th>\n",
       "      <td>KTI286</td>\n",
       "      <td>ktitterella@sciencedirect_com</td>\n",
       "    </tr>\n",
       "    <tr>\n",
       "      <th>15</th>\n",
       "      <td>LDE229</td>\n",
       "      <td>ldeglanvillef@reference_com</td>\n",
       "    </tr>\n",
       "    <tr>\n",
       "      <th>17</th>\n",
       "      <td>LMA248</td>\n",
       "      <td>lmacandrewh@japanpost_jp</td>\n",
       "    </tr>\n",
       "    <tr>\n",
       "      <th>...</th>\n",
       "      <td>...</td>\n",
       "      <td>...</td>\n",
       "    </tr>\n",
       "    <tr>\n",
       "      <th>915</th>\n",
       "      <td>PSC264</td>\n",
       "      <td>pschankepf@constantcontact_com</td>\n",
       "    </tr>\n",
       "    <tr>\n",
       "      <th>928</th>\n",
       "      <td>GPA2^4</td>\n",
       "      <td>gpaulips@deviantart_com</td>\n",
       "    </tr>\n",
       "    <tr>\n",
       "      <th>943</th>\n",
       "      <td>SSE2^6</td>\n",
       "      <td>ssellorq7@parallels_com</td>\n",
       "    </tr>\n",
       "    <tr>\n",
       "      <th>982</th>\n",
       "      <td>EWE255</td>\n",
       "      <td>eweldra@facebook_com</td>\n",
       "    </tr>\n",
       "    <tr>\n",
       "      <th>984</th>\n",
       "      <td>SOT251</td>\n",
       "      <td>sotimonyrc@salon_com</td>\n",
       "    </tr>\n",
       "  </tbody>\n",
       "</table>\n",
       "<p>96 rows × 2 columns</p>\n",
       "</div>"
      ],
      "text/plain": [
       "         id                           email\n",
       "2    SSH279    ssherbrooke2@list-manage_com\n",
       "4    ZFA290        zfabri4@biblegateway_com\n",
       "10   KTI286   ktitterella@sciencedirect_com\n",
       "15   LDE229     ldeglanvillef@reference_com\n",
       "17   LMA248        lmacandrewh@japanpost_jp\n",
       "..      ...                             ...\n",
       "915  PSC264  pschankepf@constantcontact_com\n",
       "928  GPA2^4         gpaulips@deviantart_com\n",
       "943  SSE2^6         ssellorq7@parallels_com\n",
       "982  EWE255            eweldra@facebook_com\n",
       "984  SOT251            sotimonyrc@salon_com\n",
       "\n",
       "[96 rows x 2 columns]"
      ]
     },
     "execution_count": 5,
     "metadata": {},
     "output_type": "execute_result"
    }
   ],
   "source": [
    "pattern = r\"(^[a-zA-Z0-9_.+-]+@[a-zA-Z0-9-]+\\.[a-zA-Z0-9-.]+$)\"\n",
    "print (df['email'].astype(str).str.contains(pattern,regex=True).value_counts())\n",
    "print ('\\nInvalid email addresses:')\n",
    "df[['id','email']][~df['email'].astype(str).str.contains(pattern,regex=True)]"
   ]
  },
  {
   "cell_type": "markdown",
   "metadata": {},
   "source": [
    "<font size=\"1px\">source: [http://stackoverflow.com/questions/201323/using-a-regular-expression-to-validate-an-email-address](http://stackoverflow.com/questions/201323/using-a-regular-expression-to-validate-an-email-address)</font>"
   ]
  },
  {
   "cell_type": "markdown",
   "metadata": {},
   "source": [
    "<br>\n",
    "<br>"
   ]
  },
  {
   "cell_type": "markdown",
   "metadata": {},
   "source": [
    "## Check for a valid URL"
   ]
  },
  {
   "cell_type": "markdown",
   "metadata": {},
   "source": [
    "[[back to top](#Sections)]"
   ]
  },
  {
   "cell_type": "markdown",
   "metadata": {},
   "source": [
    "Checks for an URL if a string ...\n",
    "\n",
    "- starts with `https://`, or `http://`, or `www.`\n",
    "- or ends with a dot extension"
   ]
  },
  {
   "cell_type": "code",
   "execution_count": 6,
   "metadata": {
    "collapsed": false,
    "jupyter": {
     "outputs_hidden": false
    }
   },
   "outputs": [
    {
     "name": "stdout",
     "output_type": "stream",
     "text": [
      "True     905\n",
      "False     95\n",
      "Name: url, dtype: int64\n",
      "\n",
      "Invalid URL addresses:\n"
     ]
    },
    {
     "data": {
      "text/html": [
       "<div>\n",
       "<style scoped>\n",
       "    .dataframe tbody tr th:only-of-type {\n",
       "        vertical-align: middle;\n",
       "    }\n",
       "\n",
       "    .dataframe tbody tr th {\n",
       "        vertical-align: top;\n",
       "    }\n",
       "\n",
       "    .dataframe thead th {\n",
       "        text-align: right;\n",
       "    }\n",
       "</style>\n",
       "<table border=\"1\" class=\"dataframe\">\n",
       "  <thead>\n",
       "    <tr style=\"text-align: right;\">\n",
       "      <th></th>\n",
       "      <th>id</th>\n",
       "      <th>url</th>\n",
       "    </tr>\n",
       "  </thead>\n",
       "  <tbody>\n",
       "    <tr>\n",
       "      <th>3</th>\n",
       "      <td>RBO218</td>\n",
       "      <td>http://umn_edu</td>\n",
       "    </tr>\n",
       "    <tr>\n",
       "      <th>19</th>\n",
       "      <td>PLE22^</td>\n",
       "      <td>wwss://rambler.ru</td>\n",
       "    </tr>\n",
       "    <tr>\n",
       "      <th>25</th>\n",
       "      <td>MKA246</td>\n",
       "      <td>wwss://symantec.com</td>\n",
       "    </tr>\n",
       "    <tr>\n",
       "      <th>26</th>\n",
       "      <td>RDE242</td>\n",
       "      <td>wwss://dropbox.com</td>\n",
       "    </tr>\n",
       "    <tr>\n",
       "      <th>31</th>\n",
       "      <td>BGA222</td>\n",
       "      <td>https://squarespace_com</td>\n",
       "    </tr>\n",
       "    <tr>\n",
       "      <th>...</th>\n",
       "      <td>...</td>\n",
       "      <td>...</td>\n",
       "    </tr>\n",
       "    <tr>\n",
       "      <th>951</th>\n",
       "      <td>OSK202</td>\n",
       "      <td>https://phpbb_com</td>\n",
       "    </tr>\n",
       "    <tr>\n",
       "      <th>952</th>\n",
       "      <td>MAL207</td>\n",
       "      <td>https://phoca_cz</td>\n",
       "    </tr>\n",
       "    <tr>\n",
       "      <th>962</th>\n",
       "      <td>HSA226</td>\n",
       "      <td>wws://cdbaby.com</td>\n",
       "    </tr>\n",
       "    <tr>\n",
       "      <th>971</th>\n",
       "      <td>JCA269</td>\n",
       "      <td>wws://si.edu</td>\n",
       "    </tr>\n",
       "    <tr>\n",
       "      <th>990</th>\n",
       "      <td>TPO207</td>\n",
       "      <td>wwss://weebly.com</td>\n",
       "    </tr>\n",
       "  </tbody>\n",
       "</table>\n",
       "<p>95 rows × 2 columns</p>\n",
       "</div>"
      ],
      "text/plain": [
       "         id                      url\n",
       "3    RBO218           http://umn_edu\n",
       "19   PLE22^        wwss://rambler.ru\n",
       "25   MKA246      wwss://symantec.com\n",
       "26   RDE242       wwss://dropbox.com\n",
       "31   BGA222  https://squarespace_com\n",
       "..      ...                      ...\n",
       "951  OSK202        https://phpbb_com\n",
       "952  MAL207         https://phoca_cz\n",
       "962  HSA226         wws://cdbaby.com\n",
       "971  JCA269             wws://si.edu\n",
       "990  TPO207        wwss://weebly.com\n",
       "\n",
       "[95 rows x 2 columns]"
      ]
     },
     "execution_count": 6,
     "metadata": {},
     "output_type": "execute_result"
    }
   ],
   "source": [
    "pattern = '^(https?:\\/\\/)?([\\da-z\\.-]+)\\.([a-z\\.]{2,6})([\\/\\w \\.-]*)*\\/?$'\n",
    "print (df['url'].astype(str).str.contains(pattern,regex=True).value_counts())\n",
    "print ('\\nInvalid URL addresses:')\n",
    "df[['id','url']][~df['url'].astype(str).str.contains(pattern,regex=True)]"
   ]
  },
  {
   "cell_type": "markdown",
   "metadata": {},
   "source": [
    "<font size=\"1px\">source: [http://code.tutsplus.com/tutorials/8-regular-expressions-you-should-know--net-6149](http://code.tutsplus.com/tutorials/8-regular-expressions-you-should-know--net-6149)</font>"
   ]
  },
  {
   "cell_type": "markdown",
   "metadata": {},
   "source": [
    "<br>\n",
    "<br>"
   ]
  },
  {
   "cell_type": "markdown",
   "metadata": {},
   "source": [
    "## Validating numbers"
   ]
  },
  {
   "cell_type": "markdown",
   "metadata": {},
   "source": [
    "[[back to top](#Sections)]"
   ]
  },
  {
   "cell_type": "markdown",
   "metadata": {},
   "source": [
    "### Positive integers"
   ]
  },
  {
   "cell_type": "code",
   "execution_count": 7,
   "metadata": {
    "collapsed": false,
    "jupyter": {
     "outputs_hidden": false
    }
   },
   "outputs": [
    {
     "name": "stdout",
     "output_type": "stream",
     "text": [
      "False    588\n",
      "True     412\n",
      "Name: numbers, dtype: int64\n",
      "\n",
      "NOT Positive integers:\n"
     ]
    },
    {
     "data": {
      "text/html": [
       "<div>\n",
       "<style scoped>\n",
       "    .dataframe tbody tr th:only-of-type {\n",
       "        vertical-align: middle;\n",
       "    }\n",
       "\n",
       "    .dataframe tbody tr th {\n",
       "        vertical-align: top;\n",
       "    }\n",
       "\n",
       "    .dataframe thead th {\n",
       "        text-align: right;\n",
       "    }\n",
       "</style>\n",
       "<table border=\"1\" class=\"dataframe\">\n",
       "  <thead>\n",
       "    <tr style=\"text-align: right;\">\n",
       "      <th></th>\n",
       "      <th>id</th>\n",
       "      <th>numbers</th>\n",
       "    </tr>\n",
       "  </thead>\n",
       "  <tbody>\n",
       "    <tr>\n",
       "      <th>2</th>\n",
       "      <td>SSH279</td>\n",
       "      <td>-977</td>\n",
       "    </tr>\n",
       "    <tr>\n",
       "      <th>7</th>\n",
       "      <td>AIM266</td>\n",
       "      <td>-348</td>\n",
       "    </tr>\n",
       "    <tr>\n",
       "      <th>8</th>\n",
       "      <td>MVA286</td>\n",
       "      <td>202.32</td>\n",
       "    </tr>\n",
       "    <tr>\n",
       "      <th>9</th>\n",
       "      <td>KBE2^6</td>\n",
       "      <td>784.98</td>\n",
       "    </tr>\n",
       "    <tr>\n",
       "      <th>10</th>\n",
       "      <td>KTI286</td>\n",
       "      <td>-436</td>\n",
       "    </tr>\n",
       "    <tr>\n",
       "      <th>...</th>\n",
       "      <td>...</td>\n",
       "      <td>...</td>\n",
       "    </tr>\n",
       "    <tr>\n",
       "      <th>992</th>\n",
       "      <td>EPE264</td>\n",
       "      <td>-348</td>\n",
       "    </tr>\n",
       "    <tr>\n",
       "      <th>994</th>\n",
       "      <td>FSA218</td>\n",
       "      <td>-745.20</td>\n",
       "    </tr>\n",
       "    <tr>\n",
       "      <th>995</th>\n",
       "      <td>MRO21^</td>\n",
       "      <td>-129</td>\n",
       "    </tr>\n",
       "    <tr>\n",
       "      <th>996</th>\n",
       "      <td>MDU2^1</td>\n",
       "      <td>fnm</td>\n",
       "    </tr>\n",
       "    <tr>\n",
       "      <th>999</th>\n",
       "      <td>PBA290</td>\n",
       "      <td>52.57</td>\n",
       "    </tr>\n",
       "  </tbody>\n",
       "</table>\n",
       "<p>588 rows × 2 columns</p>\n",
       "</div>"
      ],
      "text/plain": [
       "         id  numbers\n",
       "2    SSH279     -977\n",
       "7    AIM266     -348\n",
       "8    MVA286   202.32\n",
       "9    KBE2^6   784.98\n",
       "10   KTI286     -436\n",
       "..      ...      ...\n",
       "992  EPE264     -348\n",
       "994  FSA218  -745.20\n",
       "995  MRO21^     -129\n",
       "996  MDU2^1      fnm\n",
       "999  PBA290    52.57\n",
       "\n",
       "[588 rows x 2 columns]"
      ]
     },
     "execution_count": 7,
     "metadata": {},
     "output_type": "execute_result"
    }
   ],
   "source": [
    "pattern = '^\\d+$'\n",
    "\n",
    "print (df['numbers'].astype(str).str.contains(pattern,regex=True).value_counts())\n",
    "print ('\\nNOT Positive integers:')\n",
    "df[['id','numbers']][~df['numbers'].astype(str).str.contains(pattern,regex=True)]"
   ]
  },
  {
   "cell_type": "markdown",
   "metadata": {},
   "source": [
    "### Negative integers"
   ]
  },
  {
   "cell_type": "code",
   "execution_count": 8,
   "metadata": {
    "collapsed": false,
    "jupyter": {
     "outputs_hidden": false
    }
   },
   "outputs": [
    {
     "name": "stdout",
     "output_type": "stream",
     "text": [
      "False    595\n",
      "True     405\n",
      "Name: numbers, dtype: int64\n",
      "\n",
      "NOT Negative integers:\n"
     ]
    },
    {
     "data": {
      "text/html": [
       "<div>\n",
       "<style scoped>\n",
       "    .dataframe tbody tr th:only-of-type {\n",
       "        vertical-align: middle;\n",
       "    }\n",
       "\n",
       "    .dataframe tbody tr th {\n",
       "        vertical-align: top;\n",
       "    }\n",
       "\n",
       "    .dataframe thead th {\n",
       "        text-align: right;\n",
       "    }\n",
       "</style>\n",
       "<table border=\"1\" class=\"dataframe\">\n",
       "  <thead>\n",
       "    <tr style=\"text-align: right;\">\n",
       "      <th></th>\n",
       "      <th>id</th>\n",
       "      <th>numbers</th>\n",
       "    </tr>\n",
       "  </thead>\n",
       "  <tbody>\n",
       "    <tr>\n",
       "      <th>0</th>\n",
       "      <td>CCH204</td>\n",
       "      <td>559</td>\n",
       "    </tr>\n",
       "    <tr>\n",
       "      <th>1</th>\n",
       "      <td>JMU2^^</td>\n",
       "      <td>570</td>\n",
       "    </tr>\n",
       "    <tr>\n",
       "      <th>3</th>\n",
       "      <td>RBO218</td>\n",
       "      <td>685</td>\n",
       "    </tr>\n",
       "    <tr>\n",
       "      <th>4</th>\n",
       "      <td>ZFA290</td>\n",
       "      <td>919</td>\n",
       "    </tr>\n",
       "    <tr>\n",
       "      <th>5</th>\n",
       "      <td>BJE27^</td>\n",
       "      <td>827</td>\n",
       "    </tr>\n",
       "    <tr>\n",
       "      <th>...</th>\n",
       "      <td>...</td>\n",
       "      <td>...</td>\n",
       "    </tr>\n",
       "    <tr>\n",
       "      <th>994</th>\n",
       "      <td>FSA218</td>\n",
       "      <td>-745.20</td>\n",
       "    </tr>\n",
       "    <tr>\n",
       "      <th>996</th>\n",
       "      <td>MDU2^1</td>\n",
       "      <td>fnm</td>\n",
       "    </tr>\n",
       "    <tr>\n",
       "      <th>997</th>\n",
       "      <td>MTH287</td>\n",
       "      <td>898</td>\n",
       "    </tr>\n",
       "    <tr>\n",
       "      <th>998</th>\n",
       "      <td>KSK2^6</td>\n",
       "      <td>208</td>\n",
       "    </tr>\n",
       "    <tr>\n",
       "      <th>999</th>\n",
       "      <td>PBA290</td>\n",
       "      <td>52.57</td>\n",
       "    </tr>\n",
       "  </tbody>\n",
       "</table>\n",
       "<p>595 rows × 2 columns</p>\n",
       "</div>"
      ],
      "text/plain": [
       "         id  numbers\n",
       "0    CCH204      559\n",
       "1    JMU2^^      570\n",
       "3    RBO218      685\n",
       "4    ZFA290      919\n",
       "5    BJE27^      827\n",
       "..      ...      ...\n",
       "994  FSA218  -745.20\n",
       "996  MDU2^1      fnm\n",
       "997  MTH287      898\n",
       "998  KSK2^6      208\n",
       "999  PBA290    52.57\n",
       "\n",
       "[595 rows x 2 columns]"
      ]
     },
     "execution_count": 8,
     "metadata": {},
     "output_type": "execute_result"
    }
   ],
   "source": [
    "pattern = '^-\\d+$'\n",
    "\n",
    "print (df['numbers'].astype(str).str.contains(pattern,regex=True).value_counts())\n",
    "print ('\\nNOT Negative integers:')\n",
    "df[['id','numbers']][~df['numbers'].astype(str).str.contains(pattern,regex=True)]"
   ]
  },
  {
   "cell_type": "markdown",
   "metadata": {},
   "source": [
    "### All integers"
   ]
  },
  {
   "cell_type": "code",
   "execution_count": 9,
   "metadata": {
    "collapsed": false,
    "jupyter": {
     "outputs_hidden": false
    }
   },
   "outputs": [
    {
     "name": "stdout",
     "output_type": "stream",
     "text": [
      "True     817\n",
      "False    183\n",
      "Name: numbers, dtype: int64\n",
      "\n",
      "NOT All integers:\n"
     ]
    },
    {
     "data": {
      "text/html": [
       "<div>\n",
       "<style scoped>\n",
       "    .dataframe tbody tr th:only-of-type {\n",
       "        vertical-align: middle;\n",
       "    }\n",
       "\n",
       "    .dataframe tbody tr th {\n",
       "        vertical-align: top;\n",
       "    }\n",
       "\n",
       "    .dataframe thead th {\n",
       "        text-align: right;\n",
       "    }\n",
       "</style>\n",
       "<table border=\"1\" class=\"dataframe\">\n",
       "  <thead>\n",
       "    <tr style=\"text-align: right;\">\n",
       "      <th></th>\n",
       "      <th>id</th>\n",
       "      <th>numbers</th>\n",
       "    </tr>\n",
       "  </thead>\n",
       "  <tbody>\n",
       "    <tr>\n",
       "      <th>8</th>\n",
       "      <td>MVA286</td>\n",
       "      <td>202.32</td>\n",
       "    </tr>\n",
       "    <tr>\n",
       "      <th>9</th>\n",
       "      <td>KBE2^6</td>\n",
       "      <td>784.98</td>\n",
       "    </tr>\n",
       "    <tr>\n",
       "      <th>16</th>\n",
       "      <td>KTR262</td>\n",
       "      <td>swx</td>\n",
       "    </tr>\n",
       "    <tr>\n",
       "      <th>17</th>\n",
       "      <td>LMA248</td>\n",
       "      <td>300.13</td>\n",
       "    </tr>\n",
       "    <tr>\n",
       "      <th>22</th>\n",
       "      <td>SJE228</td>\n",
       "      <td>yhl.77</td>\n",
       "    </tr>\n",
       "    <tr>\n",
       "      <th>...</th>\n",
       "      <td>...</td>\n",
       "      <td>...</td>\n",
       "    </tr>\n",
       "    <tr>\n",
       "      <th>984</th>\n",
       "      <td>SOT251</td>\n",
       "      <td>-640.69</td>\n",
       "    </tr>\n",
       "    <tr>\n",
       "      <th>990</th>\n",
       "      <td>TPO207</td>\n",
       "      <td>128.83</td>\n",
       "    </tr>\n",
       "    <tr>\n",
       "      <th>994</th>\n",
       "      <td>FSA218</td>\n",
       "      <td>-745.20</td>\n",
       "    </tr>\n",
       "    <tr>\n",
       "      <th>996</th>\n",
       "      <td>MDU2^1</td>\n",
       "      <td>fnm</td>\n",
       "    </tr>\n",
       "    <tr>\n",
       "      <th>999</th>\n",
       "      <td>PBA290</td>\n",
       "      <td>52.57</td>\n",
       "    </tr>\n",
       "  </tbody>\n",
       "</table>\n",
       "<p>183 rows × 2 columns</p>\n",
       "</div>"
      ],
      "text/plain": [
       "         id  numbers\n",
       "8    MVA286   202.32\n",
       "9    KBE2^6   784.98\n",
       "16   KTR262      swx\n",
       "17   LMA248   300.13\n",
       "22   SJE228   yhl.77\n",
       "..      ...      ...\n",
       "984  SOT251  -640.69\n",
       "990  TPO207   128.83\n",
       "994  FSA218  -745.20\n",
       "996  MDU2^1      fnm\n",
       "999  PBA290    52.57\n",
       "\n",
       "[183 rows x 2 columns]"
      ]
     },
     "execution_count": 9,
     "metadata": {},
     "output_type": "execute_result"
    }
   ],
   "source": [
    "pattern = '^-{0,1}\\d+$'\n",
    "\n",
    "print (df['numbers'].astype(str).str.contains(pattern,regex=True).value_counts())\n",
    "print ('\\nNOT All integers:')\n",
    "df[['id','numbers']][~df['numbers'].astype(str).str.contains(pattern,regex=True)]"
   ]
  },
  {
   "cell_type": "markdown",
   "metadata": {},
   "source": [
    "### Positive numbers"
   ]
  },
  {
   "cell_type": "code",
   "execution_count": 10,
   "metadata": {
    "collapsed": false,
    "jupyter": {
     "outputs_hidden": false
    }
   },
   "outputs": [
    {
     "name": "stdout",
     "output_type": "stream",
     "text": [
      "False    549\n",
      "True     451\n",
      "Name: numbers, dtype: int64\n",
      "\n",
      "NOT Positive numbers:\n"
     ]
    },
    {
     "data": {
      "text/html": [
       "<div>\n",
       "<style scoped>\n",
       "    .dataframe tbody tr th:only-of-type {\n",
       "        vertical-align: middle;\n",
       "    }\n",
       "\n",
       "    .dataframe tbody tr th {\n",
       "        vertical-align: top;\n",
       "    }\n",
       "\n",
       "    .dataframe thead th {\n",
       "        text-align: right;\n",
       "    }\n",
       "</style>\n",
       "<table border=\"1\" class=\"dataframe\">\n",
       "  <thead>\n",
       "    <tr style=\"text-align: right;\">\n",
       "      <th></th>\n",
       "      <th>id</th>\n",
       "      <th>numbers</th>\n",
       "    </tr>\n",
       "  </thead>\n",
       "  <tbody>\n",
       "    <tr>\n",
       "      <th>2</th>\n",
       "      <td>SSH279</td>\n",
       "      <td>-977</td>\n",
       "    </tr>\n",
       "    <tr>\n",
       "      <th>7</th>\n",
       "      <td>AIM266</td>\n",
       "      <td>-348</td>\n",
       "    </tr>\n",
       "    <tr>\n",
       "      <th>10</th>\n",
       "      <td>KTI286</td>\n",
       "      <td>-436</td>\n",
       "    </tr>\n",
       "    <tr>\n",
       "      <th>11</th>\n",
       "      <td>PCR216</td>\n",
       "      <td>-718</td>\n",
       "    </tr>\n",
       "    <tr>\n",
       "      <th>12</th>\n",
       "      <td>BSY254</td>\n",
       "      <td>-645</td>\n",
       "    </tr>\n",
       "    <tr>\n",
       "      <th>...</th>\n",
       "      <td>...</td>\n",
       "      <td>...</td>\n",
       "    </tr>\n",
       "    <tr>\n",
       "      <th>991</th>\n",
       "      <td>PMU217</td>\n",
       "      <td>-144</td>\n",
       "    </tr>\n",
       "    <tr>\n",
       "      <th>992</th>\n",
       "      <td>EPE264</td>\n",
       "      <td>-348</td>\n",
       "    </tr>\n",
       "    <tr>\n",
       "      <th>994</th>\n",
       "      <td>FSA218</td>\n",
       "      <td>-745.20</td>\n",
       "    </tr>\n",
       "    <tr>\n",
       "      <th>995</th>\n",
       "      <td>MRO21^</td>\n",
       "      <td>-129</td>\n",
       "    </tr>\n",
       "    <tr>\n",
       "      <th>996</th>\n",
       "      <td>MDU2^1</td>\n",
       "      <td>fnm</td>\n",
       "    </tr>\n",
       "  </tbody>\n",
       "</table>\n",
       "<p>549 rows × 2 columns</p>\n",
       "</div>"
      ],
      "text/plain": [
       "         id  numbers\n",
       "2    SSH279     -977\n",
       "7    AIM266     -348\n",
       "10   KTI286     -436\n",
       "11   PCR216     -718\n",
       "12   BSY254     -645\n",
       "..      ...      ...\n",
       "991  PMU217     -144\n",
       "992  EPE264     -348\n",
       "994  FSA218  -745.20\n",
       "995  MRO21^     -129\n",
       "996  MDU2^1      fnm\n",
       "\n",
       "[549 rows x 2 columns]"
      ]
     },
     "execution_count": 10,
     "metadata": {},
     "output_type": "execute_result"
    }
   ],
   "source": [
    "pattern = '^\\d*\\.{0,1}\\d+$'\n",
    "\n",
    "print (df['numbers'].astype(str).str.contains(pattern,regex=True).value_counts())\n",
    "print ('\\nNOT Positive numbers:')\n",
    "df[['id','numbers']][~df['numbers'].astype(str).str.contains(pattern,regex=True)]"
   ]
  },
  {
   "cell_type": "markdown",
   "metadata": {},
   "source": [
    "### Negative numbers"
   ]
  },
  {
   "cell_type": "code",
   "execution_count": 11,
   "metadata": {
    "collapsed": false,
    "jupyter": {
     "outputs_hidden": false
    }
   },
   "outputs": [
    {
     "name": "stdout",
     "output_type": "stream",
     "text": [
      "False    549\n",
      "True     451\n",
      "Name: numbers, dtype: int64\n",
      "\n",
      "NOT Negative numbers:\n"
     ]
    },
    {
     "data": {
      "text/html": [
       "<div>\n",
       "<style scoped>\n",
       "    .dataframe tbody tr th:only-of-type {\n",
       "        vertical-align: middle;\n",
       "    }\n",
       "\n",
       "    .dataframe tbody tr th {\n",
       "        vertical-align: top;\n",
       "    }\n",
       "\n",
       "    .dataframe thead th {\n",
       "        text-align: right;\n",
       "    }\n",
       "</style>\n",
       "<table border=\"1\" class=\"dataframe\">\n",
       "  <thead>\n",
       "    <tr style=\"text-align: right;\">\n",
       "      <th></th>\n",
       "      <th>id</th>\n",
       "      <th>numbers</th>\n",
       "    </tr>\n",
       "  </thead>\n",
       "  <tbody>\n",
       "    <tr>\n",
       "      <th>0</th>\n",
       "      <td>CCH204</td>\n",
       "      <td>559</td>\n",
       "    </tr>\n",
       "    <tr>\n",
       "      <th>1</th>\n",
       "      <td>JMU2^^</td>\n",
       "      <td>570</td>\n",
       "    </tr>\n",
       "    <tr>\n",
       "      <th>3</th>\n",
       "      <td>RBO218</td>\n",
       "      <td>685</td>\n",
       "    </tr>\n",
       "    <tr>\n",
       "      <th>4</th>\n",
       "      <td>ZFA290</td>\n",
       "      <td>919</td>\n",
       "    </tr>\n",
       "    <tr>\n",
       "      <th>5</th>\n",
       "      <td>BJE27^</td>\n",
       "      <td>827</td>\n",
       "    </tr>\n",
       "    <tr>\n",
       "      <th>...</th>\n",
       "      <td>...</td>\n",
       "      <td>...</td>\n",
       "    </tr>\n",
       "    <tr>\n",
       "      <th>993</th>\n",
       "      <td>CLE240</td>\n",
       "      <td>792</td>\n",
       "    </tr>\n",
       "    <tr>\n",
       "      <th>996</th>\n",
       "      <td>MDU2^1</td>\n",
       "      <td>fnm</td>\n",
       "    </tr>\n",
       "    <tr>\n",
       "      <th>997</th>\n",
       "      <td>MTH287</td>\n",
       "      <td>898</td>\n",
       "    </tr>\n",
       "    <tr>\n",
       "      <th>998</th>\n",
       "      <td>KSK2^6</td>\n",
       "      <td>208</td>\n",
       "    </tr>\n",
       "    <tr>\n",
       "      <th>999</th>\n",
       "      <td>PBA290</td>\n",
       "      <td>52.57</td>\n",
       "    </tr>\n",
       "  </tbody>\n",
       "</table>\n",
       "<p>549 rows × 2 columns</p>\n",
       "</div>"
      ],
      "text/plain": [
       "         id numbers\n",
       "0    CCH204     559\n",
       "1    JMU2^^     570\n",
       "3    RBO218     685\n",
       "4    ZFA290     919\n",
       "5    BJE27^     827\n",
       "..      ...     ...\n",
       "993  CLE240     792\n",
       "996  MDU2^1     fnm\n",
       "997  MTH287     898\n",
       "998  KSK2^6     208\n",
       "999  PBA290   52.57\n",
       "\n",
       "[549 rows x 2 columns]"
      ]
     },
     "execution_count": 11,
     "metadata": {},
     "output_type": "execute_result"
    }
   ],
   "source": [
    "pattern = '^-\\d*\\.{0,1}\\d+$'\n",
    "\n",
    "print (df['numbers'].astype(str).str.contains(pattern,regex=True).value_counts())\n",
    "print ('\\nNOT Negative numbers:')\n",
    "df[['id','numbers']][~df['numbers'].astype(str).str.contains(pattern,regex=True)]"
   ]
  },
  {
   "cell_type": "markdown",
   "metadata": {},
   "source": [
    "### All numbers"
   ]
  },
  {
   "cell_type": "code",
   "execution_count": 12,
   "metadata": {
    "collapsed": false,
    "jupyter": {
     "outputs_hidden": false
    }
   },
   "outputs": [
    {
     "name": "stdout",
     "output_type": "stream",
     "text": [
      "True     902\n",
      "False     98\n",
      "Name: numbers, dtype: int64\n",
      "\n",
      "NOT All numbers:\n"
     ]
    },
    {
     "data": {
      "text/html": [
       "<div>\n",
       "<style scoped>\n",
       "    .dataframe tbody tr th:only-of-type {\n",
       "        vertical-align: middle;\n",
       "    }\n",
       "\n",
       "    .dataframe tbody tr th {\n",
       "        vertical-align: top;\n",
       "    }\n",
       "\n",
       "    .dataframe thead th {\n",
       "        text-align: right;\n",
       "    }\n",
       "</style>\n",
       "<table border=\"1\" class=\"dataframe\">\n",
       "  <thead>\n",
       "    <tr style=\"text-align: right;\">\n",
       "      <th></th>\n",
       "      <th>id</th>\n",
       "      <th>numbers</th>\n",
       "    </tr>\n",
       "  </thead>\n",
       "  <tbody>\n",
       "    <tr>\n",
       "      <th>16</th>\n",
       "      <td>KTR262</td>\n",
       "      <td>swx</td>\n",
       "    </tr>\n",
       "    <tr>\n",
       "      <th>22</th>\n",
       "      <td>SJE228</td>\n",
       "      <td>yhl.77</td>\n",
       "    </tr>\n",
       "    <tr>\n",
       "      <th>25</th>\n",
       "      <td>MKA246</td>\n",
       "      <td>qqx</td>\n",
       "    </tr>\n",
       "    <tr>\n",
       "      <th>39</th>\n",
       "      <td>MFA20^</td>\n",
       "      <td>zvb</td>\n",
       "    </tr>\n",
       "    <tr>\n",
       "      <th>40</th>\n",
       "      <td>KLI228</td>\n",
       "      <td>gju</td>\n",
       "    </tr>\n",
       "    <tr>\n",
       "      <th>...</th>\n",
       "      <td>...</td>\n",
       "      <td>...</td>\n",
       "    </tr>\n",
       "    <tr>\n",
       "      <th>970</th>\n",
       "      <td>HCH280</td>\n",
       "      <td>amm</td>\n",
       "    </tr>\n",
       "    <tr>\n",
       "      <th>973</th>\n",
       "      <td>CWR222</td>\n",
       "      <td>wat</td>\n",
       "    </tr>\n",
       "    <tr>\n",
       "      <th>974</th>\n",
       "      <td>TFA240</td>\n",
       "      <td>ggu</td>\n",
       "    </tr>\n",
       "    <tr>\n",
       "      <th>980</th>\n",
       "      <td>LSC201</td>\n",
       "      <td>-422.66.39</td>\n",
       "    </tr>\n",
       "    <tr>\n",
       "      <th>996</th>\n",
       "      <td>MDU2^1</td>\n",
       "      <td>fnm</td>\n",
       "    </tr>\n",
       "  </tbody>\n",
       "</table>\n",
       "<p>98 rows × 2 columns</p>\n",
       "</div>"
      ],
      "text/plain": [
       "         id     numbers\n",
       "16   KTR262         swx\n",
       "22   SJE228      yhl.77\n",
       "25   MKA246         qqx\n",
       "39   MFA20^         zvb\n",
       "40   KLI228         gju\n",
       "..      ...         ...\n",
       "970  HCH280         amm\n",
       "973  CWR222         wat\n",
       "974  TFA240         ggu\n",
       "980  LSC201  -422.66.39\n",
       "996  MDU2^1         fnm\n",
       "\n",
       "[98 rows x 2 columns]"
      ]
     },
     "execution_count": 12,
     "metadata": {},
     "output_type": "execute_result"
    }
   ],
   "source": [
    "pattern = '^-{0,1}\\d*\\.{0,1}\\d+$'\n",
    "\n",
    "print (df['numbers'].astype(str).str.contains(pattern,regex=True).value_counts())\n",
    "print ('\\nNOT All numbers:')\n",
    "df[['id','numbers']][~df['numbers'].astype(str).str.contains(pattern,regex=True)]"
   ]
  },
  {
   "cell_type": "markdown",
   "metadata": {},
   "source": [
    "<font size=\"1px\">source: [http://stackoverflow.com/questions/1449817/what-are-some-of-the-most-useful-regular-expressions-for-programmers](http://stackoverflow.com/questions/1449817/what-are-some-of-the-most-useful-regular-expressions-for-programmers)</font>"
   ]
  },
  {
   "cell_type": "markdown",
   "metadata": {},
   "source": [
    "<br>\n",
    "<br>"
   ]
  },
  {
   "cell_type": "markdown",
   "metadata": {},
   "source": [
    "## Validating dates"
   ]
  },
  {
   "cell_type": "markdown",
   "metadata": {},
   "source": [
    "[[back to top](#Sections)]"
   ]
  },
  {
   "cell_type": "markdown",
   "metadata": {},
   "source": [
    "Validates dates in `mm/dd/yyyy` format."
   ]
  },
  {
   "cell_type": "code",
   "execution_count": 13,
   "metadata": {
    "collapsed": false,
    "jupyter": {
     "outputs_hidden": false
    }
   },
   "outputs": [
    {
     "name": "stdout",
     "output_type": "stream",
     "text": [
      "True     818\n",
      "False    182\n",
      "Name: date, dtype: int64\n",
      "\n",
      "Invalid Dates:\n"
     ]
    },
    {
     "data": {
      "text/html": [
       "<div>\n",
       "<style scoped>\n",
       "    .dataframe tbody tr th:only-of-type {\n",
       "        vertical-align: middle;\n",
       "    }\n",
       "\n",
       "    .dataframe tbody tr th {\n",
       "        vertical-align: top;\n",
       "    }\n",
       "\n",
       "    .dataframe thead th {\n",
       "        text-align: right;\n",
       "    }\n",
       "</style>\n",
       "<table border=\"1\" class=\"dataframe\">\n",
       "  <thead>\n",
       "    <tr style=\"text-align: right;\">\n",
       "      <th></th>\n",
       "      <th>id</th>\n",
       "      <th>date</th>\n",
       "    </tr>\n",
       "  </thead>\n",
       "  <tbody>\n",
       "    <tr>\n",
       "      <th>0</th>\n",
       "      <td>CCH204</td>\n",
       "      <td>06/07/8020</td>\n",
       "    </tr>\n",
       "    <tr>\n",
       "      <th>12</th>\n",
       "      <td>BSY254</td>\n",
       "      <td>23/08/2019</td>\n",
       "    </tr>\n",
       "    <tr>\n",
       "      <th>27</th>\n",
       "      <td>OSA279</td>\n",
       "      <td>10/18/8019</td>\n",
       "    </tr>\n",
       "    <tr>\n",
       "      <th>31</th>\n",
       "      <td>BGA222</td>\n",
       "      <td>13/23/2020</td>\n",
       "    </tr>\n",
       "    <tr>\n",
       "      <th>48</th>\n",
       "      <td>RHA26^</td>\n",
       "      <td>10/36/2019</td>\n",
       "    </tr>\n",
       "    <tr>\n",
       "      <th>...</th>\n",
       "      <td>...</td>\n",
       "      <td>...</td>\n",
       "    </tr>\n",
       "    <tr>\n",
       "      <th>982</th>\n",
       "      <td>EWE255</td>\n",
       "      <td>16/06/2020</td>\n",
       "    </tr>\n",
       "    <tr>\n",
       "      <th>985</th>\n",
       "      <td>IJE250</td>\n",
       "      <td>08/58/2019</td>\n",
       "    </tr>\n",
       "    <tr>\n",
       "      <th>986</th>\n",
       "      <td>NFO205</td>\n",
       "      <td>16/24/2020</td>\n",
       "    </tr>\n",
       "    <tr>\n",
       "      <th>989</th>\n",
       "      <td>ISH204</td>\n",
       "      <td>17/31/2020</td>\n",
       "    </tr>\n",
       "    <tr>\n",
       "      <th>997</th>\n",
       "      <td>MTH287</td>\n",
       "      <td>24/07/2019</td>\n",
       "    </tr>\n",
       "  </tbody>\n",
       "</table>\n",
       "<p>182 rows × 2 columns</p>\n",
       "</div>"
      ],
      "text/plain": [
       "         id        date\n",
       "0    CCH204  06/07/8020\n",
       "12   BSY254  23/08/2019\n",
       "27   OSA279  10/18/8019\n",
       "31   BGA222  13/23/2020\n",
       "48   RHA26^  10/36/2019\n",
       "..      ...         ...\n",
       "982  EWE255  16/06/2020\n",
       "985  IJE250  08/58/2019\n",
       "986  NFO205  16/24/2020\n",
       "989  ISH204  17/31/2020\n",
       "997  MTH287  24/07/2019\n",
       "\n",
       "[182 rows x 2 columns]"
      ]
     },
     "execution_count": 13,
     "metadata": {},
     "output_type": "execute_result"
    }
   ],
   "source": [
    "pattern = '^(0[1-9]|1[0-2])\\/(0[1-9]|1\\d|2\\d|3[01])\\/(19|20)\\d{2}$'\n",
    "\n",
    "print (df['date'].astype(str).str.contains(pattern,regex=True).value_counts())\n",
    "print ('\\nInvalid Dates:')\n",
    "df[['id','date']][~df['date'].astype(str).str.contains(pattern,regex=True)]"
   ]
  },
  {
   "cell_type": "markdown",
   "metadata": {},
   "source": [
    "### Check Valid Time Format"
   ]
  },
  {
   "cell_type": "markdown",
   "metadata": {},
   "source": [
    "[[back to top](#Sections)]"
   ]
  },
  {
   "cell_type": "markdown",
   "metadata": {},
   "source": [
    "### 12-Hour format"
   ]
  },
  {
   "cell_type": "code",
   "execution_count": 14,
   "metadata": {
    "collapsed": false,
    "jupyter": {
     "outputs_hidden": false
    }
   },
   "outputs": [
    {
     "name": "stdout",
     "output_type": "stream",
     "text": [
      "True     816\n",
      "False    184\n",
      "Name: time12, dtype: int64\n",
      "\n",
      "Invalid 12 Time:\n"
     ]
    },
    {
     "data": {
      "text/html": [
       "<div>\n",
       "<style scoped>\n",
       "    .dataframe tbody tr th:only-of-type {\n",
       "        vertical-align: middle;\n",
       "    }\n",
       "\n",
       "    .dataframe tbody tr th {\n",
       "        vertical-align: top;\n",
       "    }\n",
       "\n",
       "    .dataframe thead th {\n",
       "        text-align: right;\n",
       "    }\n",
       "</style>\n",
       "<table border=\"1\" class=\"dataframe\">\n",
       "  <thead>\n",
       "    <tr style=\"text-align: right;\">\n",
       "      <th></th>\n",
       "      <th>id</th>\n",
       "      <th>time12</th>\n",
       "    </tr>\n",
       "  </thead>\n",
       "  <tbody>\n",
       "    <tr>\n",
       "      <th>4</th>\n",
       "      <td>ZFA290</td>\n",
       "      <td>13:70 PM</td>\n",
       "    </tr>\n",
       "    <tr>\n",
       "      <th>9</th>\n",
       "      <td>KBE2^6</td>\n",
       "      <td>19:70 PM</td>\n",
       "    </tr>\n",
       "    <tr>\n",
       "      <th>15</th>\n",
       "      <td>LDE229</td>\n",
       "      <td>14:10 PM</td>\n",
       "    </tr>\n",
       "    <tr>\n",
       "      <th>21</th>\n",
       "      <td>MFU219</td>\n",
       "      <td>18:10 PM</td>\n",
       "    </tr>\n",
       "    <tr>\n",
       "      <th>36</th>\n",
       "      <td>DFA252</td>\n",
       "      <td>23:10 PM</td>\n",
       "    </tr>\n",
       "    <tr>\n",
       "      <th>...</th>\n",
       "      <td>...</td>\n",
       "      <td>...</td>\n",
       "    </tr>\n",
       "    <tr>\n",
       "      <th>964</th>\n",
       "      <td>GBE24^</td>\n",
       "      <td>4:70 PM</td>\n",
       "    </tr>\n",
       "    <tr>\n",
       "      <th>976</th>\n",
       "      <td>HLA206</td>\n",
       "      <td>11:70 PM</td>\n",
       "    </tr>\n",
       "    <tr>\n",
       "      <th>988</th>\n",
       "      <td>PBA27^</td>\n",
       "      <td>35:10 PM</td>\n",
       "    </tr>\n",
       "    <tr>\n",
       "      <th>992</th>\n",
       "      <td>EPE264</td>\n",
       "      <td>22:10 PM</td>\n",
       "    </tr>\n",
       "    <tr>\n",
       "      <th>994</th>\n",
       "      <td>FSA218</td>\n",
       "      <td>5:70 PM</td>\n",
       "    </tr>\n",
       "  </tbody>\n",
       "</table>\n",
       "<p>184 rows × 2 columns</p>\n",
       "</div>"
      ],
      "text/plain": [
       "         id    time12\n",
       "4    ZFA290  13:70 PM\n",
       "9    KBE2^6  19:70 PM\n",
       "15   LDE229  14:10 PM\n",
       "21   MFU219  18:10 PM\n",
       "36   DFA252  23:10 PM\n",
       "..      ...       ...\n",
       "964  GBE24^   4:70 PM\n",
       "976  HLA206  11:70 PM\n",
       "988  PBA27^  35:10 PM\n",
       "992  EPE264  22:10 PM\n",
       "994  FSA218   5:70 PM\n",
       "\n",
       "[184 rows x 2 columns]"
      ]
     },
     "execution_count": 14,
     "metadata": {},
     "output_type": "execute_result"
    }
   ],
   "source": [
    "pattern = r'^(1[012]|[1-9]):[0-5][0-9](\\s)?(?i)(am|pm)$'\n",
    "\n",
    "print (df['time12'].astype(str).str.contains(pattern,regex=True).value_counts())\n",
    "print ('\\nInvalid 12 Time:')\n",
    "df[['id','time12']][~df['time12'].astype(str).str.contains(pattern,regex=True)]"
   ]
  },
  {
   "cell_type": "markdown",
   "metadata": {},
   "source": [
    "### 24-Hour format"
   ]
  },
  {
   "cell_type": "code",
   "execution_count": 15,
   "metadata": {
    "collapsed": false,
    "jupyter": {
     "outputs_hidden": false
    }
   },
   "outputs": [
    {
     "name": "stdout",
     "output_type": "stream",
     "text": [
      "True     604\n",
      "False    396\n",
      "Name: time24, dtype: int64\n",
      "\n",
      "Invalid 24 Time:\n"
     ]
    },
    {
     "data": {
      "text/html": [
       "<div>\n",
       "<style scoped>\n",
       "    .dataframe tbody tr th:only-of-type {\n",
       "        vertical-align: middle;\n",
       "    }\n",
       "\n",
       "    .dataframe tbody tr th {\n",
       "        vertical-align: top;\n",
       "    }\n",
       "\n",
       "    .dataframe thead th {\n",
       "        text-align: right;\n",
       "    }\n",
       "</style>\n",
       "<table border=\"1\" class=\"dataframe\">\n",
       "  <thead>\n",
       "    <tr style=\"text-align: right;\">\n",
       "      <th></th>\n",
       "      <th>id</th>\n",
       "      <th>time24</th>\n",
       "    </tr>\n",
       "  </thead>\n",
       "  <tbody>\n",
       "    <tr>\n",
       "      <th>1</th>\n",
       "      <td>JMU2^^</td>\n",
       "      <td>3:40</td>\n",
       "    </tr>\n",
       "    <tr>\n",
       "      <th>2</th>\n",
       "      <td>SSH279</td>\n",
       "      <td>9:51</td>\n",
       "    </tr>\n",
       "    <tr>\n",
       "      <th>3</th>\n",
       "      <td>RBO218</td>\n",
       "      <td>4:27</td>\n",
       "    </tr>\n",
       "    <tr>\n",
       "      <th>4</th>\n",
       "      <td>ZFA290</td>\n",
       "      <td>1:10</td>\n",
       "    </tr>\n",
       "    <tr>\n",
       "      <th>5</th>\n",
       "      <td>BJE27^</td>\n",
       "      <td>0:02</td>\n",
       "    </tr>\n",
       "    <tr>\n",
       "      <th>...</th>\n",
       "      <td>...</td>\n",
       "      <td>...</td>\n",
       "    </tr>\n",
       "    <tr>\n",
       "      <th>993</th>\n",
       "      <td>CLE240</td>\n",
       "      <td>6:07</td>\n",
       "    </tr>\n",
       "    <tr>\n",
       "      <th>994</th>\n",
       "      <td>FSA218</td>\n",
       "      <td>3:28</td>\n",
       "    </tr>\n",
       "    <tr>\n",
       "      <th>996</th>\n",
       "      <td>MDU2^1</td>\n",
       "      <td>3:01</td>\n",
       "    </tr>\n",
       "    <tr>\n",
       "      <th>997</th>\n",
       "      <td>MTH287</td>\n",
       "      <td>1:39</td>\n",
       "    </tr>\n",
       "    <tr>\n",
       "      <th>998</th>\n",
       "      <td>KSK2^6</td>\n",
       "      <td>8:07</td>\n",
       "    </tr>\n",
       "  </tbody>\n",
       "</table>\n",
       "<p>396 rows × 2 columns</p>\n",
       "</div>"
      ],
      "text/plain": [
       "         id time24\n",
       "1    JMU2^^   3:40\n",
       "2    SSH279   9:51\n",
       "3    RBO218   4:27\n",
       "4    ZFA290   1:10\n",
       "5    BJE27^   0:02\n",
       "..      ...    ...\n",
       "993  CLE240   6:07\n",
       "994  FSA218   3:28\n",
       "996  MDU2^1   3:01\n",
       "997  MTH287   1:39\n",
       "998  KSK2^6   8:07\n",
       "\n",
       "[396 rows x 2 columns]"
      ]
     },
     "execution_count": 15,
     "metadata": {},
     "output_type": "execute_result"
    }
   ],
   "source": [
    "pattern = r'^([0-1]{1}[0-9]{1}|20|21|22|23):[0-5]{1}[0-9]{1}$'\n",
    "\n",
    "print (df['time24'].astype(str).str.contains(pattern,regex=True).value_counts())\n",
    "print ('\\nInvalid 24 Time:')\n",
    "df[['id','time24']][~df['time24'].astype(str).str.contains(pattern,regex=True)]"
   ]
  },
  {
   "cell_type": "markdown",
   "metadata": {},
   "source": [
    "<br>\n",
    "<br>"
   ]
  },
  {
   "cell_type": "markdown",
   "metadata": {},
   "source": [
    "## Validating HTML tags"
   ]
  },
  {
   "cell_type": "markdown",
   "metadata": {},
   "source": [
    "[[back to top](#Sections)]"
   ]
  },
  {
   "cell_type": "markdown",
   "metadata": {},
   "source": [
    "Also this regex is only recommended for \"filtering\" purposes and not a ultimate way to parse HTML. For more information see this excellent discussion on StackOverflow:  \n",
    "[http://stackoverflow.com/questions/1732348/regex-match-open-tags-except-xhtml-self-contained-tags/](http://stackoverflow.com/questions/1732348/regex-match-open-tags-except-xhtml-self-contained-tags/) "
   ]
  },
  {
   "cell_type": "code",
   "execution_count": 16,
   "metadata": {
    "collapsed": false,
    "jupyter": {
     "outputs_hidden": false
    }
   },
   "outputs": [
    {
     "name": "stdout",
     "output_type": "stream",
     "text": [
      "True     667\n",
      "False    333\n",
      "Name: html, dtype: int64\n",
      "\n",
      "Invalid HTML:\n"
     ]
    },
    {
     "data": {
      "text/html": [
       "<div>\n",
       "<style scoped>\n",
       "    .dataframe tbody tr th:only-of-type {\n",
       "        vertical-align: middle;\n",
       "    }\n",
       "\n",
       "    .dataframe tbody tr th {\n",
       "        vertical-align: top;\n",
       "    }\n",
       "\n",
       "    .dataframe thead th {\n",
       "        text-align: right;\n",
       "    }\n",
       "</style>\n",
       "<table border=\"1\" class=\"dataframe\">\n",
       "  <thead>\n",
       "    <tr style=\"text-align: right;\">\n",
       "      <th></th>\n",
       "      <th>id</th>\n",
       "      <th>html</th>\n",
       "    </tr>\n",
       "  </thead>\n",
       "  <tbody>\n",
       "    <tr>\n",
       "      <th>2</th>\n",
       "      <td>SSH279</td>\n",
       "      <td>&lt;op^group&gt;</td>\n",
       "    </tr>\n",
       "    <tr>\n",
       "      <th>3</th>\n",
       "      <td>RBO218</td>\n",
       "      <td>&lt;^body&gt;</td>\n",
       "    </tr>\n",
       "    <tr>\n",
       "      <th>6</th>\n",
       "      <td>KSL286</td>\n",
       "      <td>&lt;/^ime&gt;</td>\n",
       "    </tr>\n",
       "    <tr>\n",
       "      <th>8</th>\n",
       "      <td>MVA286</td>\n",
       "      <td>&lt;inpu^&gt;</td>\n",
       "    </tr>\n",
       "    <tr>\n",
       "      <th>9</th>\n",
       "      <td>KBE2^6</td>\n",
       "      <td>&lt;^d&gt;</td>\n",
       "    </tr>\n",
       "    <tr>\n",
       "      <th>...</th>\n",
       "      <td>...</td>\n",
       "      <td>...</td>\n",
       "    </tr>\n",
       "    <tr>\n",
       "      <th>988</th>\n",
       "      <td>PBA27^</td>\n",
       "      <td>&lt;/^r&gt;</td>\n",
       "    </tr>\n",
       "    <tr>\n",
       "      <th>991</th>\n",
       "      <td>PMU217</td>\n",
       "      <td>&lt;fieldse^&gt;</td>\n",
       "    </tr>\n",
       "    <tr>\n",
       "      <th>993</th>\n",
       "      <td>CLE240</td>\n",
       "      <td>&lt;/r^c&gt;</td>\n",
       "    </tr>\n",
       "    <tr>\n",
       "      <th>995</th>\n",
       "      <td>MRO21^</td>\n",
       "      <td>&lt;da^a&gt;</td>\n",
       "    </tr>\n",
       "    <tr>\n",
       "      <th>997</th>\n",
       "      <td>MTH287</td>\n",
       "      <td>&lt;/^i^le&gt;</td>\n",
       "    </tr>\n",
       "  </tbody>\n",
       "</table>\n",
       "<p>333 rows × 2 columns</p>\n",
       "</div>"
      ],
      "text/plain": [
       "         id        html\n",
       "2    SSH279  <op^group>\n",
       "3    RBO218     <^body>\n",
       "6    KSL286     </^ime>\n",
       "8    MVA286     <inpu^>\n",
       "9    KBE2^6        <^d>\n",
       "..      ...         ...\n",
       "988  PBA27^       </^r>\n",
       "991  PMU217  <fieldse^>\n",
       "993  CLE240      </r^c>\n",
       "995  MRO21^      <da^a>\n",
       "997  MTH287    </^i^le>\n",
       "\n",
       "[333 rows x 2 columns]"
      ]
     },
     "execution_count": 16,
     "metadata": {},
     "output_type": "execute_result"
    }
   ],
   "source": [
    "pattern = r\"\"\"</?\\w+((\\s+\\w+(\\s*=\\s*(?:\".*?\"|'.*?'|[^'\">\\s]+))?)+\\s*|\\s*)/?>\"\"\"\n",
    "\n",
    "print (df['html'].astype(str).str.contains(pattern,regex=True).value_counts())\n",
    "print ('\\nInvalid HTML:')\n",
    "df[['id','html']][~df['html'].astype(str).str.contains(pattern,regex=True)]"
   ]
  },
  {
   "cell_type": "markdown",
   "metadata": {},
   "source": [
    "<font size=\"1px\">source: [http://haacked.com/archive/2004/10/25/usingregularexpressionstomatchhtml.aspx/](http://haacked.com/archive/2004/10/25/usingregularexpressionstomatchhtml.aspx/)</font>"
   ]
  },
  {
   "cell_type": "markdown",
   "metadata": {},
   "source": [
    "<br>\n",
    "<br>"
   ]
  },
  {
   "cell_type": "markdown",
   "metadata": {},
   "source": [
    "## Validating MAC addresses"
   ]
  },
  {
   "cell_type": "markdown",
   "metadata": {},
   "source": [
    "[[back to top](#Sections)]"
   ]
  },
  {
   "cell_type": "code",
   "execution_count": 17,
   "metadata": {
    "collapsed": false,
    "jupyter": {
     "outputs_hidden": false
    }
   },
   "outputs": [
    {
     "name": "stdout",
     "output_type": "stream",
     "text": [
      "True     977\n",
      "False     23\n",
      "Name: mac, dtype: int64\n",
      "\n",
      "Invalid MAC Address:\n"
     ]
    },
    {
     "data": {
      "text/html": [
       "<div>\n",
       "<style scoped>\n",
       "    .dataframe tbody tr th:only-of-type {\n",
       "        vertical-align: middle;\n",
       "    }\n",
       "\n",
       "    .dataframe tbody tr th {\n",
       "        vertical-align: top;\n",
       "    }\n",
       "\n",
       "    .dataframe thead th {\n",
       "        text-align: right;\n",
       "    }\n",
       "</style>\n",
       "<table border=\"1\" class=\"dataframe\">\n",
       "  <thead>\n",
       "    <tr style=\"text-align: right;\">\n",
       "      <th></th>\n",
       "      <th>id</th>\n",
       "      <th>mac</th>\n",
       "    </tr>\n",
       "  </thead>\n",
       "  <tbody>\n",
       "    <tr>\n",
       "      <th>71</th>\n",
       "      <td>BFL271</td>\n",
       "      <td>xx:AB:57:ED:9C:90</td>\n",
       "    </tr>\n",
       "    <tr>\n",
       "      <th>152</th>\n",
       "      <td>LME284</td>\n",
       "      <td>7C:2F:40:57:E3:xx</td>\n",
       "    </tr>\n",
       "    <tr>\n",
       "      <th>235</th>\n",
       "      <td>ADU275</td>\n",
       "      <td>D5:xx:D1:E1:2B:2B</td>\n",
       "    </tr>\n",
       "    <tr>\n",
       "      <th>305</th>\n",
       "      <td>JST206</td>\n",
       "      <td>E2:EF:0B:xx:14:29</td>\n",
       "    </tr>\n",
       "    <tr>\n",
       "      <th>308</th>\n",
       "      <td>ALY250</td>\n",
       "      <td>xx:53:48:16:D4:F3</td>\n",
       "    </tr>\n",
       "    <tr>\n",
       "      <th>331</th>\n",
       "      <td>ACR252</td>\n",
       "      <td>D2:xx:35:EA:EC:75</td>\n",
       "    </tr>\n",
       "    <tr>\n",
       "      <th>336</th>\n",
       "      <td>PGI272</td>\n",
       "      <td>1B:54:6C:A3:28:xx</td>\n",
       "    </tr>\n",
       "    <tr>\n",
       "      <th>417</th>\n",
       "      <td>RWA220</td>\n",
       "      <td>4F:C6:4F:D0:81:xx</td>\n",
       "    </tr>\n",
       "    <tr>\n",
       "      <th>464</th>\n",
       "      <td>BDU262</td>\n",
       "      <td>AE:xx:A2:46:97:E6</td>\n",
       "    </tr>\n",
       "    <tr>\n",
       "      <th>477</th>\n",
       "      <td>WHE221</td>\n",
       "      <td>26:E4:7B:C8:46:xx</td>\n",
       "    </tr>\n",
       "    <tr>\n",
       "      <th>533</th>\n",
       "      <td>FCH278</td>\n",
       "      <td>55:63:xx:4A:A5:7C</td>\n",
       "    </tr>\n",
       "    <tr>\n",
       "      <th>554</th>\n",
       "      <td>SDE264</td>\n",
       "      <td>xx:BD:2F:3D:A8:CD</td>\n",
       "    </tr>\n",
       "    <tr>\n",
       "      <th>593</th>\n",
       "      <td>APA2^^</td>\n",
       "      <td>60:F2:ED:AB:E2:xx</td>\n",
       "    </tr>\n",
       "    <tr>\n",
       "      <th>648</th>\n",
       "      <td>NAD220</td>\n",
       "      <td>42:7D:53:73:7C:xx</td>\n",
       "    </tr>\n",
       "    <tr>\n",
       "      <th>696</th>\n",
       "      <td>LAY216</td>\n",
       "      <td>7F:93:0F:00:xx:E1</td>\n",
       "    </tr>\n",
       "    <tr>\n",
       "      <th>818</th>\n",
       "      <td>MTH251</td>\n",
       "      <td>2C:E7:B9:xx:EB:5C</td>\n",
       "    </tr>\n",
       "    <tr>\n",
       "      <th>895</th>\n",
       "      <td>KFE207</td>\n",
       "      <td>xx:A9:85:BD:0F:40</td>\n",
       "    </tr>\n",
       "    <tr>\n",
       "      <th>900</th>\n",
       "      <td>SME264</td>\n",
       "      <td>17:B4:xx:6B:D5:89</td>\n",
       "    </tr>\n",
       "    <tr>\n",
       "      <th>921</th>\n",
       "      <td>RSH287</td>\n",
       "      <td>94:6D:1F:AD:02:xx</td>\n",
       "    </tr>\n",
       "    <tr>\n",
       "      <th>927</th>\n",
       "      <td>FHA206</td>\n",
       "      <td>2D:D4:xx:65:81:E1</td>\n",
       "    </tr>\n",
       "    <tr>\n",
       "      <th>938</th>\n",
       "      <td>NJO209</td>\n",
       "      <td>98:D9:xx:AE:E9:D6</td>\n",
       "    </tr>\n",
       "    <tr>\n",
       "      <th>978</th>\n",
       "      <td>CMA274</td>\n",
       "      <td>E4:xx:BC:E1:23:71</td>\n",
       "    </tr>\n",
       "    <tr>\n",
       "      <th>984</th>\n",
       "      <td>SOT251</td>\n",
       "      <td>80:A5:9D:2F:E0:xx</td>\n",
       "    </tr>\n",
       "  </tbody>\n",
       "</table>\n",
       "</div>"
      ],
      "text/plain": [
       "         id                mac\n",
       "71   BFL271  xx:AB:57:ED:9C:90\n",
       "152  LME284  7C:2F:40:57:E3:xx\n",
       "235  ADU275  D5:xx:D1:E1:2B:2B\n",
       "305  JST206  E2:EF:0B:xx:14:29\n",
       "308  ALY250  xx:53:48:16:D4:F3\n",
       "331  ACR252  D2:xx:35:EA:EC:75\n",
       "336  PGI272  1B:54:6C:A3:28:xx\n",
       "417  RWA220  4F:C6:4F:D0:81:xx\n",
       "464  BDU262  AE:xx:A2:46:97:E6\n",
       "477  WHE221  26:E4:7B:C8:46:xx\n",
       "533  FCH278  55:63:xx:4A:A5:7C\n",
       "554  SDE264  xx:BD:2F:3D:A8:CD\n",
       "593  APA2^^  60:F2:ED:AB:E2:xx\n",
       "648  NAD220  42:7D:53:73:7C:xx\n",
       "696  LAY216  7F:93:0F:00:xx:E1\n",
       "818  MTH251  2C:E7:B9:xx:EB:5C\n",
       "895  KFE207  xx:A9:85:BD:0F:40\n",
       "900  SME264  17:B4:xx:6B:D5:89\n",
       "921  RSH287  94:6D:1F:AD:02:xx\n",
       "927  FHA206  2D:D4:xx:65:81:E1\n",
       "938  NJO209  98:D9:xx:AE:E9:D6\n",
       "978  CMA274  E4:xx:BC:E1:23:71\n",
       "984  SOT251  80:A5:9D:2F:E0:xx"
      ]
     },
     "execution_count": 17,
     "metadata": {},
     "output_type": "execute_result"
    }
   ],
   "source": [
    "pattern = r'^(?i)([0-9A-F]{2}[:-]){5}([0-9A-F]{2})$'\n",
    "\n",
    "print (df['mac'].astype(str).str.contains(pattern,regex=True).value_counts())\n",
    "print ('\\nInvalid MAC Address:')\n",
    "df[['id','mac']][~df['mac'].astype(str).str.contains(pattern,regex=True)]"
   ]
  }
 ],
 "metadata": {
  "kernelspec": {
   "display_name": "Python 3",
   "language": "python",
   "name": "python3"
  },
  "language_info": {
   "codemirror_mode": {
    "name": "ipython",
    "version": 3
   },
   "file_extension": ".py",
   "mimetype": "text/x-python",
   "name": "python",
   "nbconvert_exporter": "python",
   "pygments_lexer": "ipython3",
   "version": "3.7.8"
  }
 },
 "nbformat": 4,
 "nbformat_minor": 4
}
